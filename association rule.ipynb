{
 "cells": [
  {
   "cell_type": "code",
   "execution_count": 1,
   "id": "6b2293c0",
   "metadata": {},
   "outputs": [],
   "source": [
    "import numpy as np\n",
    "\n",
    "def first_scan(data):\n",
    "    table = np.array([[],[]],dtype=int)\n",
    "    for line in data:\n",
    "        line2 = np.array(line,dtype=int)\n",
    "        search = np.searchsorted(table[0], line2)    \n",
    "        find = search[search != len(table[0])]\n",
    "        table[1][find] +=1\n",
    "        new_element = line2[search == len(table[0])]\n",
    "        new_table = np.array([new_element,np.ones(len(new_element))],dtype=int)\n",
    "        table = np.concatenate((table,new_table), axis=1)\n",
    "    return(table)\n",
    "\n",
    "def first_scan(data):\n",
    "    table = np.array([[],[]],dtype=int)\n",
    "    for line in data:\n",
    "        line2 = np.array(line,dtype=int)\n",
    "        search = np.searchsorted(table[0], line2)    \n",
    "        find = search[search != len(table[0])]\n",
    "        table[1][find] +=1\n",
    "        new_element = line2[search == len(table[0])]\n",
    "        new_table = np.array([new_element,np.ones(len(new_element),dtype=int)],dtype=object)\n",
    "        table = np.concatenate((table,new_table), axis=1)\n",
    "    for i in range(len(table[0])):\n",
    "        table[0][i] = [table[0][i]]   \n",
    "    return(table)\n",
    "\n",
    "def del_min(table,min_supp_n):\n",
    "    rowsum = sum(table[1])\n",
    "    table = np.delete(table, np.where(table[1] <= min_supp_n),axis=1)\n",
    "    return(table)\n",
    "\n",
    "def table_plus(table,table1):\n",
    "    temp_table = []\n",
    "    for i in table[0]:\n",
    "        if type(i) == int:\n",
    "            i = [i] \n",
    "        for j in table1[0]:\n",
    "            templist = 0\n",
    "            if type(j) != int:\n",
    "                if j[0] not in i: \n",
    "                    templist = i+j\n",
    "            else:\n",
    "                if j not in i:\n",
    "                    templist = i+[j]     \n",
    "            if (templist != 0) :\n",
    "                templist.sort()\n",
    "                if templist not in temp_table:\n",
    "                    temp_table.append(templist)\n",
    "    new_table = np.array([temp_table,np.zeros(len(temp_table),dtype=int)],dtype=object)\n",
    "    return(new_table)\n",
    "            \n",
    "def scanplus(table,data):\n",
    "    for n in range(len(table[0])):\n",
    "        target = table[0][n]\n",
    "        count = 0\n",
    "        for listdata in data:\n",
    "            temp = True\n",
    "            for i in target:\n",
    "                if str(i) not in listdata:\n",
    "                    temp = False\n",
    "            if temp:\n",
    "                count+=1\n",
    "        table[1][n] = count\n",
    "    return(table)\n",
    "\n",
    "def combine_table(table,new_table):\n",
    "    table = np.concatenate((table,new_table), axis=1)\n",
    "    return(table)\n",
    "\n",
    "def Union(lst1, lst2):\n",
    "    final_list = list(set(lst1) | set(lst2))\n",
    "    final_list.sort()\n",
    "    return final_list\n",
    "\n",
    "def defferent_set(lst1,lst2):\n",
    "    final_list = set(lst1).difference(set(lst2))\n",
    "    return final_list"
   ]
  },
  {
   "cell_type": "code",
   "execution_count": 2,
   "id": "84b787db",
   "metadata": {
    "scrolled": true
   },
   "outputs": [
    {
     "data": {
      "text/plain": [
       "<function TextIOWrapper.close()>"
      ]
     },
     "execution_count": 2,
     "metadata": {},
     "output_type": "execute_result"
    }
   ],
   "source": [
    "path = 'input.txt'\n",
    "\n",
    "f = open(path,\"r\")\n",
    "text = []\n",
    "for line in f:\n",
    "    text.append(line.split(' ')[0:-1])\n",
    "f.close"
   ]
  },
  {
   "cell_type": "code",
   "execution_count": 3,
   "id": "a26d05f7",
   "metadata": {
    "scrolled": true
   },
   "outputs": [
    {
     "data": {
      "text/plain": [
       "[['30', '31', '32'],\n",
       " ['33', '34', '35'],\n",
       " ['36', '37', '38', '39', '40', '41', '42', '43', '44', '45', '46'],\n",
       " ['38', '39', '47', '48']]"
      ]
     },
     "execution_count": 3,
     "metadata": {},
     "output_type": "execute_result"
    }
   ],
   "source": [
    "text[1:5]"
   ]
  },
  {
   "cell_type": "code",
   "execution_count": 4,
   "id": "f9fd9101",
   "metadata": {},
   "outputs": [],
   "source": [
    "min_supp = 0.05\n",
    "min_conf = 0.33\n",
    "min_supp_n = min_supp * len(text)"
   ]
  },
  {
   "cell_type": "code",
   "execution_count": 5,
   "id": "0d7093fd",
   "metadata": {},
   "outputs": [
    {
     "data": {
      "text/plain": [
       "array([[list([32]), list([38]), list([39]), list([41]), list([48]),\n",
       "        list([65])],\n",
       "       [15167, 15596, 50675, 14945, 42135, 4472]], dtype=object)"
      ]
     },
     "execution_count": 5,
     "metadata": {},
     "output_type": "execute_result"
    }
   ],
   "source": [
    "table = first_scan(text)\n",
    "table = del_min(table,min_supp_n=min_supp_n)\n",
    "table"
   ]
  },
  {
   "cell_type": "code",
   "execution_count": 6,
   "id": "53d19c25",
   "metadata": {},
   "outputs": [],
   "source": [
    "temp_table = table\n",
    "output_table = temp_table\n",
    "n = 1\n",
    "while (len(temp_table[0]) > n) & (len(table[0]) >= n):\n",
    "    \n",
    "    n+=1\n",
    "    temp_table = table_plus(temp_table,table)\n",
    "    temp_table = scanplus(temp_table,text)\n",
    "    temp_table = del_min(temp_table,min_supp_n=min_supp_n)\n",
    "    output_table = combine_table(output_table,temp_table)\n",
    "    "
   ]
  },
  {
   "cell_type": "code",
   "execution_count": 7,
   "id": "af3166fc",
   "metadata": {
    "scrolled": false
   },
   "outputs": [
    {
     "name": "stdout",
     "output_type": "stream",
     "text": [
      "0.56\n",
      "{32} -> {39} (0.56)\n",
      "\n",
      "0.53\n",
      "{32} -> {48} (0.53)\n",
      "\n",
      "0.36\n",
      "{32} -> {48, 39} (0.36)\n",
      "\n",
      "0.66\n",
      "{38} -> {39} (0.66)\n",
      "\n",
      "0.51\n",
      "{38} -> {48} (0.51)\n",
      "\n",
      "0.39\n",
      "{38} -> {48, 39} (0.39)\n",
      "\n",
      "0.58\n",
      "{39} -> {48} (0.58)\n",
      "\n",
      "0.76\n",
      "{41} -> {39} (0.76)\n",
      "\n",
      "0.6\n",
      "{41} -> {48} (0.6)\n",
      "\n",
      "0.49\n",
      "{41} -> {48, 39} (0.49)\n",
      "\n",
      "0.69\n",
      "{48} -> {39} (0.69)\n",
      "\n",
      "0.64\n",
      "{32, 39} -> {48} (0.64)\n",
      "\n",
      "0.67\n",
      "{32, 48} -> {39} (0.67)\n",
      "\n",
      "0.59\n",
      "{38, 39} -> {48} (0.59)\n",
      "\n",
      "0.77\n",
      "{48, 38} -> {39} (0.77)\n",
      "\n",
      "0.65\n",
      "{41, 39} -> {48} (0.65)\n",
      "\n",
      "0.82\n",
      "{48, 41} -> {39} (0.82)\n",
      "\n"
     ]
    }
   ],
   "source": [
    "path = 'output.txt'\n",
    "f = open(path, 'w')\n",
    "\n",
    "f.write(\"under min_supp=%s and min_conf=%s\\n\"%(min_supp,min_conf))\n",
    "\n",
    "for i in range(len(output_table[0])):\n",
    "    for j in range(i+1,len(output_table[0])):\n",
    "        \n",
    "        if Union(output_table[0][i],output_table[0][j]) == output_table[0][j]:\n",
    "            if (output_table[1][j]/output_table[1][i]) > min_conf:\n",
    "                conf = round(output_table[1][j]/output_table[1][i],(len(str(min_conf))-2))\n",
    "                print(conf)\n",
    "                outstr = \"%s -> %s (%s)\\n\"%(set(output_table[0][i]),defferent_set(output_table[0][j],output_table[0][i]),conf)\n",
    "                \n",
    "                f.write(outstr)\n",
    "                print(outstr)\n",
    "f.close()"
   ]
  }
 ],
 "metadata": {
  "kernelspec": {
   "display_name": "Python 3",
   "language": "python",
   "name": "python3"
  },
  "language_info": {
   "codemirror_mode": {
    "name": "ipython",
    "version": 3
   },
   "file_extension": ".py",
   "mimetype": "text/x-python",
   "name": "python",
   "nbconvert_exporter": "python",
   "pygments_lexer": "ipython3",
   "version": "3.8.8"
  }
 },
 "nbformat": 4,
 "nbformat_minor": 5
}
